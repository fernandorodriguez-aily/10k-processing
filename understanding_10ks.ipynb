{
 "cells": [
  {
   "metadata": {},
   "cell_type": "markdown",
   "source": [
    "# Understanding 10-K & 10-Q files structure\n",
    "\n",
    "**Relevant links:**\n",
    "\n",
    "* [[Investopedia] SEC Filings: Forms you need to know](https://www.investopedia.com/articles/fundamental-analysis/08/sec-forms.asp)\n",
    "* [[SEC] Investor Bulletin: How to read a 10-K](https://www.sec.gov/files/reada10k.pdf)\n",
    "* [[SEC] General instructions for 10-K](https://www.sec.gov/files/form10-k.pdf)"
   ],
   "id": "db2c86dea855ceae"
  },
  {
   "cell_type": "code",
   "id": "initial_id",
   "metadata": {
    "collapsed": true,
    "ExecuteTime": {
     "end_time": "2024-10-04T15:15:18.957501Z",
     "start_time": "2024-10-04T15:15:18.699635Z"
    }
   },
   "source": [
    "import requests\n",
    "from pypdf import PdfReader\n",
    "\n",
    "# Download the PDF from the URL (if running locally)\n",
    "# APPL 10-k 2023\n",
    "url = \"https://s2.q4cdn.com/470004039/files/doc_earnings/2023/q4/filing/_10-K-Q4-2023-As-Filed.pdf\"\n",
    "pdf_file_path = \"appl_2023.pdf\"\n",
    "\n",
    "# JNJ 10-k 2023\n",
    "url = \"https://d18rn0p25nwr6d.cloudfront.net/CIK-0000200406/2d8bead4-a89a-4802-8c63-1266ad78e6a2.pdf\"\n",
    "pdf_file_path = \"jnj_2023.pdf\"\n",
    "\n",
    "# Download and save the PDF\n",
    "response = requests.get(url)\n",
    "with open(pdf_file_path, 'wb') as f:\n",
    "    f.write(response.content)\n",
    "\n",
    "# Open the downloaded PDF\n",
    "reader = PdfReader(pdf_file_path)\n",
    "\n",
    "# Function to extract all bookmarks and their page numbers\n",
    "def list_bookmarks(bookmarks, parent_title=\"\"):\n",
    "    bookmark_list = []\n",
    "    for outline in bookmarks:\n",
    "        if isinstance(outline, list):\n",
    "            # Handle nested bookmarks recursively\n",
    "            bookmark_list.extend(list_bookmarks(outline, parent_title))\n",
    "        else:\n",
    "            title = outline.title\n",
    "            page = reader.get_destination_page_number(outline)\n",
    "            bookmark_list.append((parent_title + title, page + 1))  # Page is 0-indexed, so +1\n",
    "    return bookmark_list\n",
    "\n",
    "# Extracting bookmarks\n",
    "if reader.outline:\n",
    "    bookmarks = list_bookmarks(reader.outline)\n",
    "\n",
    "    # Printing the bookmarks and their corresponding pages\n",
    "    print(\"Bookmarks and their corresponding pages:\")\n",
    "    for title, page in bookmarks:\n",
    "        print(f\"'{title}' -> Page {page}\")\n",
    "else:\n",
    "    print(\"No bookmarks found in the PDF.\")\n"
   ],
   "outputs": [
    {
     "name": "stdout",
     "output_type": "stream",
     "text": [
      "No bookmarks found in the PDF.\n"
     ]
    }
   ],
   "execution_count": 2
  }
 ],
 "metadata": {
  "kernelspec": {
   "display_name": "Python 3",
   "language": "python",
   "name": "python3"
  },
  "language_info": {
   "codemirror_mode": {
    "name": "ipython",
    "version": 2
   },
   "file_extension": ".py",
   "mimetype": "text/x-python",
   "name": "python",
   "nbconvert_exporter": "python",
   "pygments_lexer": "ipython2",
   "version": "2.7.6"
  }
 },
 "nbformat": 4,
 "nbformat_minor": 5
}
